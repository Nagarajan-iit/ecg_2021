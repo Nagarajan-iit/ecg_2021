{
  "nbformat": 4,
  "nbformat_minor": 0,
  "metadata": {
    "colab": {
      "name": "Drive_mount.ipynb",
      "provenance": [],
      "collapsed_sections": [],
      "authorship_tag": "ABX9TyP9MzsQqfFGKBOSQcqTqyCo",
      "include_colab_link": true
    },
    "kernelspec": {
      "name": "python3",
      "display_name": "Python 3"
    }
  },
  "cells": [
    {
      "cell_type": "markdown",
      "metadata": {
        "id": "view-in-github",
        "colab_type": "text"
      },
      "source": [
        "<a href=\"https://colab.research.google.com/github/Nagarajan-iit/ecg_2021/blob/main/Drive_mount.ipynb\" target=\"_parent\"><img src=\"https://colab.research.google.com/assets/colab-badge.svg\" alt=\"Open In Colab\"/></a>"
      ]
    },
    {
      "cell_type": "code",
      "metadata": {
        "colab": {
          "base_uri": "https://localhost:8080/"
        },
        "id": "hzeK6mZVR0Si",
        "outputId": "c5c9bf77-748e-4da3-fce3-814147a52b32"
      },
      "source": [
        "from google.colab import drive\r\n",
        "drive.mount('/content/drive')"
      ],
      "execution_count": 4,
      "outputs": [
        {
          "output_type": "stream",
          "text": [
            "Mounted at /content/drive\n"
          ],
          "name": "stdout"
        }
      ]
    },
    {
      "cell_type": "code",
      "metadata": {
        "colab": {
          "base_uri": "https://localhost:8080/"
        },
        "id": "owRrvbbySzSE",
        "outputId": "1daa0ae3-4aca-4b88-b417-ef4bd69a3d6d"
      },
      "source": [
        "!git clone https://github.com/physionetchallenges/python-classifier-2021\r\n"
      ],
      "execution_count": 5,
      "outputs": [
        {
          "output_type": "stream",
          "text": [
            "Cloning into 'python-classifier-2021'...\n",
            "remote: Enumerating objects: 17, done.\u001b[K\n",
            "remote: Counting objects: 100% (17/17), done.\u001b[K\n",
            "remote: Compressing objects: 100% (13/13), done.\u001b[K\n",
            "remote: Total 17 (delta 3), reused 15 (delta 3), pack-reused 0\n",
            "Unpacking objects: 100% (17/17), done.\n"
          ],
          "name": "stdout"
        }
      ]
    },
    {
      "cell_type": "code",
      "metadata": {
        "colab": {
          "base_uri": "https://localhost:8080/"
        },
        "id": "yU_IGuh1TGLW",
        "outputId": "b9ecc99b-572d-4a82-983b-6642f18c79a1"
      },
      "source": [
        "%cd /content/drive/My Drive/"
      ],
      "execution_count": 9,
      "outputs": [
        {
          "output_type": "stream",
          "text": [
            "/content/drive/My Drive\n"
          ],
          "name": "stdout"
        }
      ]
    },
    {
      "cell_type": "code",
      "metadata": {
        "colab": {
          "base_uri": "https://localhost:8080/",
          "height": 36
        },
        "id": "1ud9i8isTaP6",
        "outputId": "d701fed8-a797-4d52-90a9-e194752072a4"
      },
      "source": [
        "%pwd"
      ],
      "execution_count": 10,
      "outputs": [
        {
          "output_type": "execute_result",
          "data": {
            "application/vnd.google.colaboratory.intrinsic+json": {
              "type": "string"
            },
            "text/plain": [
              "'/content/drive/MyDrive'"
            ]
          },
          "metadata": {
            "tags": []
          },
          "execution_count": 10
        }
      ]
    },
    {
      "cell_type": "code",
      "metadata": {
        "colab": {
          "base_uri": "https://localhost:8080/"
        },
        "id": "lgWXKGI4TeMZ",
        "outputId": "d028b0b4-4b72-49d4-ddb9-e409ed020dd5"
      },
      "source": [
        "!git clone https://github.com/physionetchallenges/python-classifier-2021\r\n"
      ],
      "execution_count": 11,
      "outputs": [
        {
          "output_type": "stream",
          "text": [
            "Cloning into 'python-classifier-2021'...\n",
            "remote: Enumerating objects: 17, done.\u001b[K\n",
            "remote: Counting objects: 100% (17/17), done.\u001b[K\n",
            "remote: Compressing objects: 100% (13/13), done.\u001b[K\n",
            "remote: Total 17 (delta 3), reused 15 (delta 3), pack-reused 0\u001b[K\n",
            "Unpacking objects: 100% (17/17), done.\n"
          ],
          "name": "stdout"
        }
      ]
    },
    {
      "cell_type": "code",
      "metadata": {
        "colab": {
          "base_uri": "https://localhost:8080/",
          "height": 671
        },
        "id": "AEpjehnbSIMR",
        "outputId": "455d89dc-4829-44ef-8ae0-c7b34a6e5c71"
      },
      "source": [
        "!pip install -r /content/drive/MyDrive/python-classifier-2021/requirements.txt"
      ],
      "execution_count": 16,
      "outputs": [
        {
          "output_type": "stream",
          "text": [
            "Collecting numpy==1.19.4\n",
            "\u001b[?25l  Downloading https://files.pythonhosted.org/packages/87/86/753182c9085ba4936c0076269a571613387cdb77ae2bf537448bfd63472c/numpy-1.19.4-cp36-cp36m-manylinux2010_x86_64.whl (14.5MB)\n",
            "\u001b[K     |████████████████████████████████| 14.5MB 302kB/s \n",
            "\u001b[?25hCollecting scipy==1.5.4\n",
            "\u001b[?25l  Downloading https://files.pythonhosted.org/packages/c8/89/63171228d5ced148f5ced50305c89e8576ffc695a90b58fe5bb602b910c2/scipy-1.5.4-cp36-cp36m-manylinux1_x86_64.whl (25.9MB)\n",
            "\u001b[K     |████████████████████████████████| 25.9MB 1.7MB/s \n",
            "\u001b[?25hCollecting scikit-learn==0.23.2\n",
            "\u001b[?25l  Downloading https://files.pythonhosted.org/packages/5c/a1/273def87037a7fb010512bbc5901c31cfddfca8080bc63b42b26e3cc55b3/scikit_learn-0.23.2-cp36-cp36m-manylinux1_x86_64.whl (6.8MB)\n",
            "\u001b[K     |████████████████████████████████| 6.8MB 21.4MB/s \n",
            "\u001b[?25hCollecting joblib==0.17.0\n",
            "\u001b[?25l  Downloading https://files.pythonhosted.org/packages/fc/c9/f58220ac44a1592f79a343caba12f6837f9e0c04c196176a3d66338e1ea8/joblib-0.17.0-py3-none-any.whl (301kB)\n",
            "\u001b[K     |████████████████████████████████| 307kB 42.6MB/s \n",
            "\u001b[?25hCollecting threadpoolctl>=2.0.0\n",
            "  Downloading https://files.pythonhosted.org/packages/f7/12/ec3f2e203afa394a149911729357aa48affc59c20e2c1c8297a60f33f133/threadpoolctl-2.1.0-py3-none-any.whl\n",
            "\u001b[31mERROR: datascience 0.10.6 has requirement folium==0.2.1, but you'll have folium 0.8.3 which is incompatible.\u001b[0m\n",
            "\u001b[31mERROR: albumentations 0.1.12 has requirement imgaug<0.2.7,>=0.2.5, but you'll have imgaug 0.2.9 which is incompatible.\u001b[0m\n",
            "Installing collected packages: numpy, scipy, joblib, threadpoolctl, scikit-learn\n",
            "  Found existing installation: numpy 1.19.5\n",
            "    Uninstalling numpy-1.19.5:\n",
            "      Successfully uninstalled numpy-1.19.5\n",
            "  Found existing installation: scipy 1.4.1\n",
            "    Uninstalling scipy-1.4.1:\n",
            "      Successfully uninstalled scipy-1.4.1\n",
            "  Found existing installation: joblib 1.0.0\n",
            "    Uninstalling joblib-1.0.0:\n",
            "      Successfully uninstalled joblib-1.0.0\n",
            "  Found existing installation: scikit-learn 0.22.2.post1\n",
            "    Uninstalling scikit-learn-0.22.2.post1:\n",
            "      Successfully uninstalled scikit-learn-0.22.2.post1\n",
            "Successfully installed joblib-0.17.0 numpy-1.19.4 scikit-learn-0.23.2 scipy-1.5.4 threadpoolctl-2.1.0\n"
          ],
          "name": "stdout"
        },
        {
          "output_type": "display_data",
          "data": {
            "application/vnd.colab-display-data+json": {
              "pip_warning": {
                "packages": [
                  "numpy"
                ]
              }
            }
          },
          "metadata": {
            "tags": []
          }
        }
      ]
    },
    {
      "cell_type": "code",
      "metadata": {
        "colab": {
          "base_uri": "https://localhost:8080/"
        },
        "id": "orF3KDfYUPzC",
        "outputId": "538c1eb1-86ce-4b2e-8551-52e54657975b"
      },
      "source": [
        "%cd /content/drive/MyDrive/python-classifier-2021/"
      ],
      "execution_count": 4,
      "outputs": [
        {
          "output_type": "stream",
          "text": [
            "/content/drive/MyDrive/python-classifier-2021\n"
          ],
          "name": "stdout"
        }
      ]
    },
    {
      "cell_type": "code",
      "metadata": {
        "colab": {
          "base_uri": "https://localhost:8080/"
        },
        "id": "8kI6dfZVU4jN",
        "outputId": "fc89fc1f-bed2-4560-88a3-47cfbdbef759"
      },
      "source": [
        "%cd /content/drive/MyDrive/Database/"
      ],
      "execution_count": 6,
      "outputs": [
        {
          "output_type": "stream",
          "text": [
            "/content/drive/MyDrive/Database\n"
          ],
          "name": "stdout"
        }
      ]
    },
    {
      "cell_type": "code",
      "metadata": {
        "colab": {
          "base_uri": "https://localhost:8080/"
        },
        "id": "G0x4XYzAVY8q",
        "outputId": "d65617a3-9205-41bc-c1d5-ac94b08b6a1f"
      },
      "source": [
        "!wget -r -N -c -np https://physionet.org/files/challenge-2021/1.0.0/"
      ],
      "execution_count": 9,
      "outputs": [
        {
          "output_type": "stream",
          "text": [
            "--2021-01-22 18:25:13--  https://physionet.org/files/challenge-2021/1.0.0/\n",
            "Resolving physionet.org (physionet.org)... 18.18.42.54\n",
            "Connecting to physionet.org (physionet.org)|18.18.42.54|:443... connected.\n",
            "HTTP request sent, awaiting response... 200 OK\n",
            "Length: unspecified [text/html]\n",
            "Saving to: ‘physionet.org/files/challenge-2021/1.0.0/index.html’\n",
            "\n",
            "physionet.org/files     [ <=>                ]     480  --.-KB/s    in 0s      \n",
            "\n",
            "Last-modified header missing -- time-stamps turned off.\n",
            "2021-01-22 18:25:13 (13.5 MB/s) - ‘physionet.org/files/challenge-2021/1.0.0/index.html’ saved [480]\n",
            "\n",
            "Loading robots.txt; please ignore errors.\n",
            "--2021-01-22 18:25:13--  https://physionet.org/robots.txt\n",
            "Reusing existing connection to physionet.org:443.\n",
            "HTTP request sent, awaiting response... 200 OK\n",
            "Length: 22 [text/plain]\n",
            "Saving to: ‘physionet.org/robots.txt’\n",
            "\n",
            "physionet.org/robot 100%[===================>]      22  --.-KB/s    in 0s      \n",
            "\n",
            "2021-01-22 18:25:13 (2.68 MB/s) - ‘physionet.org/robots.txt’ saved [22/22]\n",
            "\n",
            "--2021-01-22 18:25:13--  https://physionet.org/files/challenge-2021/1.0.0/LICENSE.txt\n",
            "Reusing existing connection to physionet.org:443.\n",
            "HTTP request sent, awaiting response... 200 OK\n",
            "Length: 14842 (14K) [text/plain]\n",
            "Saving to: ‘physionet.org/files/challenge-2021/1.0.0/LICENSE.txt’\n",
            "\n",
            "physionet.org/files 100%[===================>]  14.49K  --.-KB/s    in 0.003s  \n",
            "\n",
            "2021-01-22 18:25:14 (5.55 MB/s) - ‘physionet.org/files/challenge-2021/1.0.0/LICENSE.txt’ saved [14842/14842]\n",
            "\n",
            "--2021-01-22 18:25:14--  https://physionet.org/files/challenge-2021/1.0.0/SHA256SUMS.txt\n",
            "Reusing existing connection to physionet.org:443.\n",
            "HTTP request sent, awaiting response... 200 OK\n",
            "Length: 77 [text/plain]\n",
            "Saving to: ‘physionet.org/files/challenge-2021/1.0.0/SHA256SUMS.txt’\n",
            "\n",
            "physionet.org/files 100%[===================>]      77  --.-KB/s    in 0s      \n",
            "\n",
            "2021-01-22 18:25:14 (8.51 MB/s) - ‘physionet.org/files/challenge-2021/1.0.0/SHA256SUMS.txt’ saved [77/77]\n",
            "\n",
            "FINISHED --2021-01-22 18:25:14--\n",
            "Total wall clock time: 0.8s\n",
            "Downloaded: 4 files, 15K in 0.003s (5.65 MB/s)\n"
          ],
          "name": "stdout"
        }
      ]
    },
    {
      "cell_type": "code",
      "metadata": {
        "colab": {
          "base_uri": "https://localhost:8080/",
          "height": 36
        },
        "id": "KOv8Wn0HWfp4",
        "outputId": "3ccc43c8-7149-4feb-8611-ef94a18629cb"
      },
      "source": [
        "%pwd\r\n"
      ],
      "execution_count": 10,
      "outputs": [
        {
          "output_type": "execute_result",
          "data": {
            "application/vnd.google.colaboratory.intrinsic+json": {
              "type": "string"
            },
            "text/plain": [
              "'/content/drive/MyDrive/Database'"
            ]
          },
          "metadata": {
            "tags": []
          },
          "execution_count": 10
        }
      ]
    },
    {
      "cell_type": "code",
      "metadata": {
        "id": "BnoCuqr6WigC"
      },
      "source": [
        "!rm -rf Database"
      ],
      "execution_count": 17,
      "outputs": []
    },
    {
      "cell_type": "code",
      "metadata": {
        "colab": {
          "base_uri": "https://localhost:8080/"
        },
        "id": "XCa0_1yiXDPQ",
        "outputId": "50bb0dba-ac20-46de-ed16-50da72001d7a"
      },
      "source": [
        "%cd Database/"
      ],
      "execution_count": 20,
      "outputs": [
        {
          "output_type": "stream",
          "text": [
            "/content/drive/My Drive/Database\n"
          ],
          "name": "stdout"
        }
      ]
    },
    {
      "cell_type": "code",
      "metadata": {
        "colab": {
          "base_uri": "https://localhost:8080/"
        },
        "id": "41UIYKO3XNqb",
        "outputId": "604efe49-fde1-4165-c10f-72698aaaf676"
      },
      "source": [
        "!git clone https://github.com/tensorflow/tpu"
      ],
      "execution_count": 33,
      "outputs": [
        {
          "output_type": "stream",
          "text": [
            "Cloning into 'tpu'...\n",
            "remote: Enumerating objects: 29, done.\u001b[K\n",
            "remote: Counting objects: 100% (29/29), done.\u001b[K\n",
            "remote: Compressing objects: 100% (23/23), done.\u001b[K\n",
            "remote: Total 9798 (delta 7), reused 15 (delta 6), pack-reused 9769\u001b[K\n",
            "Receiving objects: 100% (9798/9798), 24.27 MiB | 12.59 MiB/s, done.\n",
            "Resolving deltas: 100% (7022/7022), done.\n",
            "Checking out files: 100% (614/614), done.\n"
          ],
          "name": "stdout"
        }
      ]
    },
    {
      "cell_type": "code",
      "metadata": {
        "colab": {
          "base_uri": "https://localhost:8080/"
        },
        "id": "m3n0T4jmZodx",
        "outputId": "bc15a4fb-2c0e-4bd9-c5b4-e7d503d5fca4"
      },
      "source": [
        "%cd .."
      ],
      "execution_count": 34,
      "outputs": [
        {
          "output_type": "stream",
          "text": [
            "/content/drive\n"
          ],
          "name": "stdout"
        }
      ]
    },
    {
      "cell_type": "code",
      "metadata": {
        "colab": {
          "base_uri": "https://localhost:8080/"
        },
        "id": "lmPIk8C_ZsOn",
        "outputId": "1b71c01c-0c24-4648-c0b0-aa06aaf1172f"
      },
      "source": [
        "%cd /content/drive/MyDrive/Database/"
      ],
      "execution_count": 35,
      "outputs": [
        {
          "output_type": "stream",
          "text": [
            "/content/drive/MyDrive/Database\n"
          ],
          "name": "stdout"
        }
      ]
    },
    {
      "cell_type": "code",
      "metadata": {
        "colab": {
          "base_uri": "https://localhost:8080/"
        },
        "id": "4-lLarilZzm-",
        "outputId": "3b4e3bf9-6997-443a-a2dd-a301168759db"
      },
      "source": [
        "!wget -O PhysioNetChallenge2020_Training_E.tar.gz \\\r\n",
        "https://cloudypipeline.com:9555/api/download/physionet2020training/PhysioNetChallenge2020_Training_E.tar.gz/"
      ],
      "execution_count": 45,
      "outputs": [
        {
          "output_type": "stream",
          "text": [
            "--2021-01-22 18:45:43--  https://cloudypipeline.com:9555/api/download/physionet2020training/PhysioNetChallenge2020_Training_E.tar.gz/\n",
            "Resolving cloudypipeline.com (cloudypipeline.com)... failed: Name or service not known.\n",
            "wget: unable to resolve host address ‘cloudypipeline.com’\n"
          ],
          "name": "stdout"
        }
      ]
    }
  ]
}